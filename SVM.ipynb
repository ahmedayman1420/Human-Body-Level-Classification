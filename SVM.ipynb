{
 "cells": [
  {
   "cell_type": "code",
   "execution_count": 57,
   "metadata": {},
   "outputs": [],
   "source": [
    "# ========== ----- ========== Import Libraries ========== ----- ========== #\n",
    "\n",
    "import numpy as np\n",
    "import pandas as pd\n",
    "from matplotlib import pyplot as plt\n",
    "from sklearn import svm\n",
    "from sklearn.model_selection import GridSearchCV\n",
    "from sklearn.model_selection import train_test_split\n",
    "from sklearn.metrics import confusion_matrix\n",
    "from sklearn.metrics import accuracy_score\n",
    "\n",
    "# from mlxtend.plotting import plot_decision_regions \n",
    "\n",
    "# ========== ----- ========== End ========== ----- ========== #"
   ]
  },
  {
   "cell_type": "code",
   "execution_count": 58,
   "metadata": {},
   "outputs": [
    {
     "name": "stdout",
     "output_type": "stream",
     "text": [
      "   Body_Level  Gender       Age    Height    Weight  H_Cal_Consump  \\\n",
      "0           3       1  0.646666  0.690578  1.016135              1   \n",
      "1           3       1 -0.649582 -0.003364  0.686578              1   \n",
      "2           3       0 -0.537725  0.493657  1.790354              1   \n",
      "3           3       0 -1.291128 -0.545353 -0.036499              1   \n",
      "4           3       0  0.270463 -0.818715  0.951256              1   \n",
      "\n",
      "   Veg_Consump  Water_Consump  Smoking  Meal_Count  ...  \\\n",
      "0    -0.199318       0.236558        0    0.402155  ...   \n",
      "1     0.428856      -1.026715        0   -1.792121  ...   \n",
      "2     1.069487       1.401741        0    0.402155  ...   \n",
      "3     0.986227      -1.620907        0    0.402155  ...   \n",
      "4     1.069487       0.974150        0    0.402155  ...   \n",
      "\n",
      "   Food_Between_Meals_Always  Food_Between_Meals_Frequently  \\\n",
      "0                          0                              0   \n",
      "1                          0                              0   \n",
      "2                          0                              0   \n",
      "3                          0                              0   \n",
      "4                          0                              0   \n",
      "\n",
      "   Food_Between_Meals_Sometimes  Food_Between_Meals_no  Transport_Automobile  \\\n",
      "0                             1                      0                     1   \n",
      "1                             1                      0                     0   \n",
      "2                             1                      0                     0   \n",
      "3                             1                      0                     0   \n",
      "4                             1                      0                     0   \n",
      "\n",
      "   Transport_Bike  Transport_Motorbike  Transport_Public_Transportation  \\\n",
      "0               0                    0                                0   \n",
      "1               0                    0                                1   \n",
      "2               0                    0                                1   \n",
      "3               0                    0                                1   \n",
      "4               0                    0                                1   \n",
      "\n",
      "   Transport_Walking       BMI  \n",
      "0                  0  0.823278  \n",
      "1                  0  0.806112  \n",
      "2                  0  1.751663  \n",
      "3                  0  0.219426  \n",
      "4                  0  1.574457  \n",
      "\n",
      "[5 rows x 28 columns]\n",
      "Training set shape: (1181, 27)\n",
      "Test set shape: (296, 27)\n"
     ]
    }
   ],
   "source": [
    "# ========== ----- ========== Import Dataset ========== ----- ========== #\n",
    "\n",
    "# Read the CSV file into a pandas DataFrame\n",
    "df = pd.read_csv('dataset.csv')\n",
    "# Display the first few rows of the DataFrame\n",
    "# df = df.drop('BMI', axis=1)\n",
    "print(df.head())\n",
    "\n",
    "\n",
    "# Split the data into training and test sets\n",
    "X_train, X_test, y_train, y_test = train_test_split(\n",
    "    df.drop('Body_Level', axis=1), df['Body_Level'], test_size=0.2, random_state=42)\n",
    "\n",
    "# Print the shapes of the training and test sets\n",
    "print('Training set shape:', X_train.shape)\n",
    "print('Test set shape:', X_test.shape)\n",
    "\n",
    "# ========== ----- ========== End ========== ----- ========== #\n"
   ]
  },
  {
   "cell_type": "code",
   "execution_count": 61,
   "metadata": {},
   "outputs": [
    {
     "name": "stdout",
     "output_type": "stream",
     "text": [
      "SVC(C=5, gamma=1, kernel='linear')\n"
     ]
    }
   ],
   "source": [
    "# ========== ----- ========== SVM Model ========== ----- ========== #\n",
    "\n",
    "param_grid = {'C': [0.1, 1, 5, 10, 20, 30, 40, 50,\n",
    "                    60, 70, 100, 200], 'gamma': [1, 0.1, 0.01, 0.001], 'kernel': ['linear', 'rbf', 'poly', 'sigmoid']}\n",
    "\n",
    "model = svm.SVC()\n",
    "grid = GridSearchCV(model, param_grid, refit=True)\n",
    "grid.fit(X_train, y_train)\n",
    "print(grid.best_estimator_)\n",
    "\n",
    "# ========== ----- ========== End ========== ----- ========== #\n"
   ]
  },
  {
   "cell_type": "code",
   "execution_count": 62,
   "metadata": {},
   "outputs": [
    {
     "name": "stdout",
     "output_type": "stream",
     "text": [
      "[[ 41   0   0   0]\n",
      " [  2  41   0   0]\n",
      " [  0   3  82   0]\n",
      " [  0   0   0 127]]\n",
      "Accuracy: 0.9831081081081081\n"
     ]
    }
   ],
   "source": [
    "# ========== ----- ========== Test SVM Model ========== ----- ========== #\n",
    "\n",
    "# Predict the target variable for the test data\n",
    "y_pred = grid.predict(X_test)\n",
    "\n",
    "# Evaluate the model performance\n",
    "accuracy = accuracy_score(y_test, y_pred)\n",
    "print(confusion_matrix(y_test, y_pred))\n",
    "print('Accuracy:', accuracy)\n",
    "\n",
    "# ========== ----- ========== End ========== ----- ========== #"
   ]
  },
  {
   "cell_type": "code",
   "execution_count": null,
   "metadata": {},
   "outputs": [],
   "source": []
  }
 ],
 "metadata": {
  "interpreter": {
   "hash": "dc14f7734d659c7a792a107c713d39d3b0ed48a15e8cd1909946cea7b1916837"
  },
  "kernelspec": {
   "display_name": "Python 3",
   "language": "python",
   "name": "python3"
  },
  "language_info": {
   "codemirror_mode": {
    "name": "ipython",
    "version": 3
   },
   "file_extension": ".py",
   "mimetype": "text/x-python",
   "name": "python",
   "nbconvert_exporter": "python",
   "pygments_lexer": "ipython3",
   "version": "3.9.7"
  }
 },
 "nbformat": 4,
 "nbformat_minor": 2
}
